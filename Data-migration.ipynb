{
  "cells": [
    {
      "cell_type": "markdown",
      "metadata": {
        "id": "view-in-github",
        "colab_type": "text"
      },
      "source": [
        "<a href=\"https://colab.research.google.com/github/shubhanshu-26/Big_data/blob/main/Data-migration.ipynb\" target=\"_parent\"><img src=\"https://colab.research.google.com/assets/colab-badge.svg\" alt=\"Open In Colab\"/></a>"
      ]
    },
    {
      "cell_type": "code",
      "execution_count": null,
      "id": "6b6e422f-db7c-4978-a661-93f2c12275b5",
      "metadata": {
        "id": "6b6e422f-db7c-4978-a661-93f2c12275b5"
      },
      "outputs": [],
      "source": [
        "# Migrate data from RDD to dataframe\n",
        "# option 1 Using Reflection based approach\n",
        "import pyspark\n",
        "from pyspark.sql import SparkSession\n",
        "from pyspark.sql.functions import *"
      ]
    },
    {
      "cell_type": "code",
      "execution_count": null,
      "id": "c371324d-fbd2-49d9-88e3-b8379671a5b8",
      "metadata": {
        "id": "c371324d-fbd2-49d9-88e3-b8379671a5b8"
      },
      "outputs": [],
      "source": [
        "spark = SparkSession \\\n",
        "                        .builder \\\n",
        "                        .master(\"local\") \\\n",
        "                        .appName(\"shub-demo\") \\\n",
        "                        .getOrCreate() \\\n"
      ]
    },
    {
      "cell_type": "code",
      "execution_count": null,
      "id": "66c4c595-0cb4-4f35-ab39-3880e7a9ead0",
      "metadata": {
        "colab": {
          "base_uri": "https://localhost:8080/"
        },
        "id": "66c4c595-0cb4-4f35-ab39-3880e7a9ead0",
        "outputId": "f3fcc133-0ee6-4924-90e4-e3f244f454c9"
      },
      "outputs": [
        {
          "output_type": "stream",
          "name": "stdout",
          "text": [
            "Mounted at /content/drive\n"
          ]
        }
      ],
      "source": [
        "from google.colab import drive\n",
        "drive.mount('/content/drive')"
      ]
    },
    {
      "cell_type": "code",
      "source": [
        "movies_path = \"/content/drive/MyDrive/Spark-datasets/movies.csv\"\n",
        "movies_rdd = spark.sparkContext.textFile(movies_path)\n",
        "movies_rdd.take(5)"
      ],
      "metadata": {
        "colab": {
          "base_uri": "https://localhost:8080/"
        },
        "id": "t8ZLwwANtbbZ",
        "outputId": "ceffc5af-118a-4269-f6ec-3ed36b911181"
      },
      "id": "t8ZLwwANtbbZ",
      "execution_count": null,
      "outputs": [
        {
          "output_type": "execute_result",
          "data": {
            "text/plain": [
              "['movieId,title,genres',\n",
              " '1,Toy Story (1995),Adventure|Animation|Children|Comedy|Fantasy',\n",
              " '2,Jumanji (1995),Adventure|Children|Fantasy',\n",
              " '3,Grumpier Old Men (1995),Comedy|Romance',\n",
              " '4,Waiting to Exhale (1995),Comedy|Drama|Romance']"
            ]
          },
          "metadata": {},
          "execution_count": 19
        }
      ]
    },
    {
      "cell_type": "code",
      "source": [
        "ratings_path = \"/content/drive/MyDrive/Spark-datasets/ratings.csv\"\n",
        "ratings_rdd = spark.sparkContext.textFile(ratings_path)\n",
        "ratings_rdd.take(5)"
      ],
      "metadata": {
        "colab": {
          "base_uri": "https://localhost:8080/"
        },
        "id": "dfvsQx20n-3e",
        "outputId": "20bde9b1-2f8f-41f5-aefd-0108c9f77966"
      },
      "id": "dfvsQx20n-3e",
      "execution_count": null,
      "outputs": [
        {
          "output_type": "execute_result",
          "data": {
            "text/plain": [
              "['userId,movieId,rating,timestamp',\n",
              " '1,296,5.0,1147880044',\n",
              " '1,306,3.5,1147868817',\n",
              " '1,307,5.0,1147868828',\n",
              " '1,665,5.0,1147878820']"
            ]
          },
          "metadata": {},
          "execution_count": 20
        }
      ]
    },
    {
      "cell_type": "code",
      "execution_count": null,
      "id": "6137de30-4a69-4aa6-9be3-a282754e97cb",
      "metadata": {
        "colab": {
          "base_uri": "https://localhost:8080/"
        },
        "id": "6137de30-4a69-4aa6-9be3-a282754e97cb",
        "outputId": "2071e35d-a603-4391-962f-cc36ed1b9c4b"
      },
      "outputs": [
        {
          "output_type": "stream",
          "name": "stdout",
          "text": [
            "+--------------------+----------+---------------+------------+------+\n",
            "|               title|avg_rating|first_timestamp|rating_count|count1|\n",
            "+--------------------+----------+---------------+------------+------+\n",
            "| (Girl)Friend (2018)|       5.0|     1563617667|           1|     1|\n",
            "| #realityhigh (2017)|       5.0|     1530679271|           1|     1|\n",
            "|      '49-'17 (1917)|       5.0|     1535634881|           1|     1|\n",
            "|...E fuori nevica...|       5.0|     1546451439|           1|     1|\n",
            "|\"Gabriel \"\"Fluffy...|       5.0|     1549519332|           1|     1|\n",
            "+--------------------+----------+---------------+------------+------+\n",
            "only showing top 5 rows\n",
            "\n"
          ]
        }
      ],
      "source": [
        "from pyspark.sql import Row\n",
        "parts1 = movies_rdd.map(lambda x:x.split(\",\"))\n",
        "parts2 = ratings_rdd.map(lambda x:x.split(\",\"))\n",
        "\n",
        "schemaMovies = parts1.map(lambda p: Row(movieId = (p[0]), title = (p[1]), genres = (p[2])))\n",
        "schemaRating = parts2.map(lambda p: Row(userId = (p[0]), movieId = (p[1]), rating = (p[2]), timestamp = (p[3])))\n",
        "\n",
        "movie_df = spark.createDataFrame(schemaMovies)\n",
        "movie_df.createOrReplaceTempView(\"movies\")\n",
        "\n",
        "rating_df = spark.createDataFrame(schemaRating)\n",
        "rating_df.createOrReplaceTempView(\"ratings\")\n",
        "\n",
        "spark.sql(\"\"\"select m.title, avg(r.rating) as avg_rating, first(r.timestamp) as first_timestamp, count(r.rating) as rating_count\n",
        "              from movies m\n",
        "              join ratings r\n",
        "              on m.movieId = r.movieId\n",
        "              where r.rating = 5 and m.genres like '%Comedy%'\n",
        "              group by m.title\n",
        "              order by rating_count\"\"\").show(5)"
      ]
    },
    {
      "cell_type": "code",
      "source": [
        "spark.sql(\"\"\"\n",
        "SELECT m.title, m.genres, AVG(r.rating) AS avg_rating\n",
        "FROM movies m\n",
        "JOIN ratings r ON m.movieId = r.movieId\n",
        "GROUP BY m.title, m.genres\n",
        "ORDER BY avg_rating DESC\n",
        "\"\"\").show()"
      ],
      "metadata": {
        "colab": {
          "base_uri": "https://localhost:8080/"
        },
        "id": "vlgh2rGUyqDg",
        "outputId": "181236ac-278c-48a0-bc73-99dc66c1aee7"
      },
      "id": "vlgh2rGUyqDg",
      "execution_count": null,
      "outputs": [
        {
          "output_type": "stream",
          "name": "stdout",
          "text": [
            "+--------------------+--------------------+----------+\n",
            "|               title|              genres|avg_rating|\n",
            "+--------------------+--------------------+----------+\n",
            "|Room Full of Spoo...|         Documentary|       5.0|\n",
            "|Strike Commando (...|              Action|       5.0|\n",
            "|     Clearcut (1991)|Drama|Thriller|We...|       5.0|\n",
            "|               \"Love| Cheat & Steal (1...|       5.0|\n",
            "|...E fuori nevica...|              Comedy|       5.0|\n",
            "|      Solanin (2010)|       Drama|Romance|       5.0|\n",
            "|\"Pioneers of Elec...| Volume 1: Richie...|       5.0|\n",
            "|A Lustful Man (1961)|        Comedy|Drama|       5.0|\n",
            "|Big Man - An Unus...|  (no genres listed)|       5.0|\n",
            "|Motion Picture ('...|  (no genres listed)|       5.0|\n",
            "|The Unfaithfuls (...|  (no genres listed)|       5.0|\n",
            "|The Portuguese Ki...|  (no genres listed)|       5.0|\n",
            "|   The Wicked (2014)|              Horror|       5.0|\n",
            "|Banana Paradise (...|  (no genres listed)|       5.0|\n",
            "|      Peacock (2015)|Comedy|Drama|Romance|       5.0|\n",
            "|Top Secret Rosies...|     Documentary|War|       5.0|\n",
            "|In the Name of Ho...|  (no genres listed)|       5.0|\n",
            "|    El camino (2008)|               Drama|       5.0|\n",
            "|Latin Music USA (...| Documentary|Musical|       5.0|\n",
            "|   Mary & Tim (1996)|  (no genres listed)|       5.0|\n",
            "+--------------------+--------------------+----------+\n",
            "only showing top 20 rows\n",
            "\n"
          ]
        }
      ]
    },
    {
      "cell_type": "code",
      "execution_count": null,
      "id": "5a1ef52c-9354-400a-b2e0-1e44d65ba47e",
      "metadata": {
        "colab": {
          "base_uri": "https://localhost:8080/"
        },
        "id": "5a1ef52c-9354-400a-b2e0-1e44d65ba47e",
        "outputId": "513e5f5c-5e8a-415a-97ad-e2d7945d55f6"
      },
      "outputs": [
        {
          "output_type": "execute_result",
          "data": {
            "text/plain": [
              "['movieId,title,genres',\n",
              " '1,Toy Story (1995),Adventure|Animation|Children|Comedy|Fantasy',\n",
              " '2,Jumanji (1995),Adventure|Children|Fantasy',\n",
              " '3,Grumpier Old Men (1995),Comedy|Romance',\n",
              " '4,Waiting to Exhale (1995),Comedy|Drama|Romance']"
            ]
          },
          "metadata": {},
          "execution_count": 32
        }
      ],
      "source": [
        "# option 2 Using Progmmatic way\n",
        "\n",
        "schemaString = \"id name category\"\n",
        "movies_rdd.take(5)"
      ]
    },
    {
      "cell_type": "code",
      "execution_count": null,
      "id": "e87a72da-b28c-4166-8fad-67c13c3e50d9",
      "metadata": {
        "colab": {
          "base_uri": "https://localhost:8080/"
        },
        "id": "e87a72da-b28c-4166-8fad-67c13c3e50d9",
        "outputId": "fef2e08a-0624-492d-9999-bbec53052b91"
      },
      "outputs": [
        {
          "output_type": "execute_result",
          "data": {
            "text/plain": [
              "[['movieId', 'title', 'genres'],\n",
              " ['1', 'Toy Story (1995)', 'Adventure|Animation|Children|Comedy|Fantasy'],\n",
              " ['2', 'Jumanji (1995)', 'Adventure|Children|Fantasy'],\n",
              " ['3', 'Grumpier Old Men (1995)', 'Comedy|Romance'],\n",
              " ['4', 'Waiting to Exhale (1995)', 'Comedy|Drama|Romance']]"
            ]
          },
          "metadata": {},
          "execution_count": 33
        }
      ],
      "source": [
        "parts = movies_rdd.map(lambda x:x.split(\",\"))\n",
        "parts.take(5)"
      ]
    },
    {
      "cell_type": "code",
      "execution_count": null,
      "id": "964596f8-8eb5-4f47-806d-3eb64bf2faca",
      "metadata": {
        "colab": {
          "base_uri": "https://localhost:8080/"
        },
        "id": "964596f8-8eb5-4f47-806d-3eb64bf2faca",
        "outputId": "e7d2611a-40a6-418d-ce9c-dbe57908746a"
      },
      "outputs": [
        {
          "output_type": "execute_result",
          "data": {
            "text/plain": [
              "[('movieId', 'title', 'genres'),\n",
              " ('1', 'Toy Story (1995)', 'Adventure|Animation|Children|Comedy|Fantasy'),\n",
              " ('2', 'Jumanji (1995)', 'Adventure|Children|Fantasy'),\n",
              " ('3', 'Grumpier Old Men (1995)', 'Comedy|Romance'),\n",
              " ('4', 'Waiting to Exhale (1995)', 'Comedy|Drama|Romance')]"
            ]
          },
          "metadata": {},
          "execution_count": 34
        }
      ],
      "source": [
        "cleaned_rdd = parts.map(lambda p: (p[0], p[1], p[2].strip()))\n",
        "cleaned_rdd.take(5)"
      ]
    },
    {
      "cell_type": "code",
      "execution_count": null,
      "id": "e4661bf5-761b-448a-a3fe-6041ffcd53e6",
      "metadata": {
        "id": "e4661bf5-761b-448a-a3fe-6041ffcd53e6"
      },
      "outputs": [],
      "source": [
        "from pyspark.sql.types import StructField,StringType,StringType,StructType\n",
        "\n",
        "fields = [StructField(field_name,StringType(),True) for field_name in schemaString.split()]\n",
        "schema = StructType(fields)"
      ]
    },
    {
      "cell_type": "code",
      "execution_count": null,
      "id": "7a00d4d8-bf30-44f5-a6a6-b0049ec8d2a5",
      "metadata": {
        "id": "7a00d4d8-bf30-44f5-a6a6-b0049ec8d2a5"
      },
      "outputs": [],
      "source": [
        "my_df = spark.createDataFrame(cleaned_rdd, schema)\n",
        "my_df.createOrReplaceTempView(\"movies\")"
      ]
    },
    {
      "cell_type": "code",
      "execution_count": null,
      "id": "ec9079d5-89ab-453c-a091-fb1a7745a264",
      "metadata": {
        "colab": {
          "base_uri": "https://localhost:8080/"
        },
        "id": "ec9079d5-89ab-453c-a091-fb1a7745a264",
        "outputId": "696cc232-3f46-44e5-86d4-99c60fe16f87"
      },
      "outputs": [
        {
          "output_type": "stream",
          "name": "stdout",
          "text": [
            "+------+--------------------+--------+\n",
            "|    id|                name|category|\n",
            "+------+--------------------+--------+\n",
            "|149562|'Pimpernel' Smith...|  Action|\n",
            "|171027|    11 Blocks (2015)|  Action|\n",
            "|142228|12 Rounds 3: Lock...|  Action|\n",
            "| 86142|13 Assassins (Jûs...|  Action|\n",
            "|176829|       6 Days (2017)|  Action|\n",
            "|128482|7 Hours of Violen...|  Action|\n",
            "|150864|  80 Milionów (2011)|  Action|\n",
            "|183365|A Deadly Obsessio...|  Action|\n",
            "|144286|   A Good Man (2014)|  Action|\n",
            "|129655|A Nightingale San...|  Action|\n",
            "|173313|     A2 Racer (2004)|  Action|\n",
            "|152340|Aap Mujhe Achche ...|  Action|\n",
            "|123034|Aces Go Places V:...|  Action|\n",
            "|  2817|Aces: Iron Eagle ...|  Action|\n",
            "|201977|Action Figures 2 ...|  Action|\n",
            "|179821|Acts of Vengeance...|  Action|\n",
            "|183419|Acts of Violence ...|  Action|\n",
            "|136918|  Age Of Kill (2015)|  Action|\n",
            "| 93923|  Agent Vinod (2012)|  Action|\n",
            "|201196|     Airborne (1998)|  Action|\n",
            "|154947|Airplane vs Volca...|  Action|\n",
            "|197613|All the Devil's M...|  Action|\n",
            "|126420|American Heist (2...|  Action|\n",
            "| 65400|American Ninja 4:...|  Action|\n",
            "|193701|American Shaolin ...|  Action|\n",
            "+------+--------------------+--------+\n",
            "only showing top 25 rows\n",
            "\n"
          ]
        }
      ],
      "source": [
        "spark.sql(\"\"\"select *\n",
        "             from movies\n",
        "             where category = 'Action'\n",
        "             Order by name\"\"\").show(25)"
      ]
    },
    {
      "cell_type": "code",
      "source": [],
      "metadata": {
        "id": "gtNngg19Jn6r"
      },
      "id": "gtNngg19Jn6r",
      "execution_count": null,
      "outputs": []
    }
  ],
  "metadata": {
    "kernelspec": {
      "display_name": "PySpark 3",
      "language": "python",
      "name": "pyspark3_env"
    },
    "language_info": {
      "codemirror_mode": {
        "name": "ipython",
        "version": 3
      },
      "file_extension": ".py",
      "mimetype": "text/x-python",
      "name": "python",
      "nbconvert_exporter": "python",
      "pygments_lexer": "ipython3",
      "version": "3.9.13"
    },
    "colab": {
      "provenance": [],
      "include_colab_link": true
    }
  },
  "nbformat": 4,
  "nbformat_minor": 5
}