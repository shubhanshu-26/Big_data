{
  "nbformat": 4,
  "nbformat_minor": 0,
  "metadata": {
    "colab": {
      "provenance": [],
      "authorship_tag": "ABX9TyPygNfCQ3CeQ1bJNEgsEMpX",
      "include_colab_link": true
    },
    "kernelspec": {
      "name": "python3",
      "display_name": "Python 3"
    },
    "language_info": {
      "name": "python"
    }
  },
  "cells": [
    {
      "cell_type": "markdown",
      "metadata": {
        "id": "view-in-github",
        "colab_type": "text"
      },
      "source": [
        "<a href=\"https://colab.research.google.com/github/shubhanshu-26/Big_data/blob/main/IMDB_Movie_recommendation.ipynb\" target=\"_parent\"><img src=\"https://colab.research.google.com/assets/colab-badge.svg\" alt=\"Open In Colab\"/></a>"
      ]
    },
    {
      "cell_type": "code",
      "execution_count": 2,
      "metadata": {
        "colab": {
          "base_uri": "https://localhost:8080/"
        },
        "id": "W9Q9rb_sf_jB",
        "outputId": "f4a67521-c5e4-49f6-893a-0089455c901e"
      },
      "outputs": [
        {
          "output_type": "stream",
          "name": "stdout",
          "text": [
            "--2025-04-14 13:43:36--  https://archive.apache.org/dist/spark/spark-3.5.0/spark-3.5.0-bin-hadoop3.tgz\n",
            "Resolving archive.apache.org (archive.apache.org)... 65.108.204.189, 2a01:4f9:1a:a084::2\n",
            "Connecting to archive.apache.org (archive.apache.org)|65.108.204.189|:443... connected.\n",
            "HTTP request sent, awaiting response... 200 OK\n",
            "Length: 400395283 (382M) [application/x-gzip]\n",
            "Saving to: ‘spark.tgz’\n",
            "\n",
            "spark.tgz           100%[===================>] 381.85M   837KB/s    in 11m 31s \n",
            "\n",
            "2025-04-14 13:55:07 (566 KB/s) - ‘spark.tgz’ saved [400395283/400395283]\n",
            "\n"
          ]
        }
      ],
      "source": [
        "!apt-get install openjdk-11-jdk-headless -qq > /dev/null\n",
        "!wget https://archive.apache.org/dist/spark/spark-3.5.0/spark-3.5.0-bin-hadoop3.tgz -O spark.tgz\n",
        "!tar -xzf spark.tgz"
      ]
    },
    {
      "cell_type": "code",
      "source": [
        "!pip install pyspark"
      ],
      "metadata": {
        "colab": {
          "base_uri": "https://localhost:8080/"
        },
        "id": "L6NHk8-nlzCF",
        "outputId": "643eb409-8e62-4ec5-984b-8c492a74fd76"
      },
      "execution_count": 3,
      "outputs": [
        {
          "output_type": "stream",
          "name": "stdout",
          "text": [
            "Requirement already satisfied: pyspark in /usr/local/lib/python3.11/dist-packages (3.5.5)\n",
            "Requirement already satisfied: py4j==0.10.9.7 in /usr/local/lib/python3.11/dist-packages (from pyspark) (0.10.9.7)\n"
          ]
        }
      ]
    },
    {
      "cell_type": "code",
      "source": [
        "import os\n",
        "os.environ[\"JAVA_HOME\"] = \"/usr/lib/jvm/java-11-openjdk-amd64\""
      ],
      "metadata": {
        "id": "F6ZgKoXdh7mK"
      },
      "execution_count": 4,
      "outputs": []
    },
    {
      "cell_type": "code",
      "source": [
        "from pyspark.sql import SparkSession\n",
        "from pyspark.sql.functions import *\n",
        "\n",
        "spark = SparkSession.builder \\\n",
        "    .appName(\"PySpark Clean Setup\") \\\n",
        "    .getOrCreate()"
      ],
      "metadata": {
        "id": "LNsklMSwl11l"
      },
      "execution_count": 2,
      "outputs": []
    },
    {
      "cell_type": "code",
      "source": [
        "df = spark.createDataFrame([\n",
        "    (\"Alice\", 23),\n",
        "    (\"Bob\", 34),\n",
        "    (\"Charlie\", 29)\n",
        "], [\"Name\", \"Age\"])\n",
        "\n",
        "df.show()"
      ],
      "metadata": {
        "colab": {
          "base_uri": "https://localhost:8080/"
        },
        "id": "jL6AKrrdl8u_",
        "outputId": "660caff1-7770-421c-c8ad-b65981522ec4"
      },
      "execution_count": 6,
      "outputs": [
        {
          "output_type": "stream",
          "name": "stdout",
          "text": [
            "+-------+---+\n",
            "|   Name|Age|\n",
            "+-------+---+\n",
            "|  Alice| 23|\n",
            "|    Bob| 34|\n",
            "|Charlie| 29|\n",
            "+-------+---+\n",
            "\n"
          ]
        }
      ]
    },
    {
      "cell_type": "code",
      "source": [
        "from google.colab import drive\n",
        "drive.mount('/content/drive')"
      ],
      "metadata": {
        "colab": {
          "base_uri": "https://localhost:8080/"
        },
        "id": "PGcN4QXLmESG",
        "outputId": "81a7657e-3e20-462b-a14d-7ff568a66d37"
      },
      "execution_count": 3,
      "outputs": [
        {
          "output_type": "stream",
          "name": "stdout",
          "text": [
            "Mounted at /content/drive\n"
          ]
        }
      ]
    },
    {
      "cell_type": "code",
      "source": [
        "movies_path = \"/content/drive/MyDrive/Spark-datasets/movies.csv\"\n",
        "ratings_path = \"/content/drive/MyDrive/Spark-datasets/ratings.csv\"\n",
        "\n",
        "moviesdf = spark.read.option(\"header\", \"true\").option(\"inferSchema\", \"true\").csv(movies_path)\n",
        "ratingsdf = spark.read.option(\"header\", \"true\").option(\"inferSchema\", \"true\").csv(ratings_path)\n",
        "\n",
        "moviesdf.show(5)\n",
        "ratingsdf.show(5)"
      ],
      "metadata": {
        "colab": {
          "base_uri": "https://localhost:8080/"
        },
        "id": "x4eHlBPNmNmF",
        "outputId": "1e05c8fd-715f-4d69-d05b-2c70347a9fdd"
      },
      "execution_count": 4,
      "outputs": [
        {
          "output_type": "stream",
          "name": "stdout",
          "text": [
            "+-------+--------------------+--------------------+\n",
            "|movieId|               title|              genres|\n",
            "+-------+--------------------+--------------------+\n",
            "|      1|    Toy Story (1995)|Adventure|Animati...|\n",
            "|      2|      Jumanji (1995)|Adventure|Childre...|\n",
            "|      3|Grumpier Old Men ...|      Comedy|Romance|\n",
            "|      4|Waiting to Exhale...|Comedy|Drama|Romance|\n",
            "|      5|Father of the Bri...|              Comedy|\n",
            "+-------+--------------------+--------------------+\n",
            "only showing top 5 rows\n",
            "\n",
            "+------+-------+------+----------+\n",
            "|userId|movieId|rating| timestamp|\n",
            "+------+-------+------+----------+\n",
            "|     1|    296|   5.0|1147880044|\n",
            "|     1|    306|   3.5|1147868817|\n",
            "|     1|    307|   5.0|1147868828|\n",
            "|     1|    665|   5.0|1147878820|\n",
            "|     1|    899|   3.5|1147868510|\n",
            "+------+-------+------+----------+\n",
            "only showing top 5 rows\n",
            "\n"
          ]
        }
      ]
    },
    {
      "cell_type": "code",
      "source": [
        "# Now running IMDB query(# Which IMDB movie has the most number of ratings)\n",
        "\n",
        "# covert dataframe in which we were executing is DSL into normal table so that we can work with SQL\n",
        "ratingsdf.createOrReplaceTempView(\"ratings\")\n",
        "moviesdf.createOrReplaceTempView(\"movies\")"
      ],
      "metadata": {
        "id": "oiXcAq7OoNeM"
      },
      "execution_count": 5,
      "outputs": []
    },
    {
      "cell_type": "code",
      "source": [
        "ratingsdf.printSchema()\n",
        "moviesdf.printSchema()"
      ],
      "metadata": {
        "colab": {
          "base_uri": "https://localhost:8080/"
        },
        "id": "OThBBiiQoXbB",
        "outputId": "cdb12975-f087-46b7-9e4c-6f0db466e138"
      },
      "execution_count": 15,
      "outputs": [
        {
          "output_type": "stream",
          "name": "stdout",
          "text": [
            "root\n",
            " |-- userId: integer (nullable = true)\n",
            " |-- movieId: integer (nullable = true)\n",
            " |-- rating: double (nullable = true)\n",
            " |-- timestamp: integer (nullable = true)\n",
            "\n",
            "root\n",
            " |-- movieId: integer (nullable = true)\n",
            " |-- title: string (nullable = true)\n",
            " |-- genres: string (nullable = true)\n",
            "\n"
          ]
        }
      ]
    },
    {
      "cell_type": "code",
      "source": [
        "spark.sql('''select title, count(*) as rating_count\n",
        "             from movies m join ratings r ON m.movieId = r.movieId\n",
        "             where genres = 'Comedy' group by title\n",
        "             order by rating_count desc limit 1''').show()\n",
        "# Now running IMDB query(# Which IMDB movie has the most number of ratings)"
      ],
      "metadata": {
        "colab": {
          "base_uri": "https://localhost:8080/"
        },
        "id": "TOJAdezToaXU",
        "outputId": "2a9464c1-7b3f-453a-ab3b-e57f944d9f3e"
      },
      "execution_count": 16,
      "outputs": [
        {
          "output_type": "stream",
          "name": "stdout",
          "text": [
            "+--------------------+------------+\n",
            "|               title|rating_count|\n",
            "+--------------------+------------+\n",
            "|Ace Ventura: Pet ...|       37453|\n",
            "+--------------------+------------+\n",
            "\n"
          ]
        }
      ]
    },
    {
      "cell_type": "code",
      "source": [
        "# show top-rated movies by genre with atleast 10 ratings\n",
        "spark.sql('''\n",
        "            SELECT m.genres, m.title, ROUND(AVG(r.rating), 2) as avg_rating, COUNT(*) as total_ratings\n",
        "            FROM movies m\n",
        "            JOIN ratings r ON m.movieId = r.movieId\n",
        "            WHERE m.genres != '(no genres listed)'\n",
        "            GROUP BY m.genres, m.title\n",
        "            HAVING total_ratings >= 10\n",
        "            ORDER BY m.genres, avg_rating DESC''').show(50, truncate=False)"
      ],
      "metadata": {
        "colab": {
          "base_uri": "https://localhost:8080/"
        },
        "id": "FbU4D1DKodyX",
        "outputId": "799513c8-7aee-4574-eba9-06491445a327"
      },
      "execution_count": 6,
      "outputs": [
        {
          "output_type": "stream",
          "name": "stdout",
          "text": [
            "+------+---------------------------------------------------------------------------------------+----------+-------------+\n",
            "|genres|title                                                                                  |avg_rating|total_ratings|\n",
            "+------+---------------------------------------------------------------------------------------+----------+-------------+\n",
            "|Action|Baasha (1995)                                                                          |3.8       |10           |\n",
            "|Action|Ip Man 2 (2010)                                                                        |3.78      |1209         |\n",
            "|Action|Lone Wolf and Cub: Baby Cart in Peril (Kozure Ôkami: Oya no kokoro ko no kokoro) (1972)|3.72      |112          |\n",
            "|Action|13 Assassins (Jûsan-nin no shikaku) (2010)                                             |3.7       |825          |\n",
            "|Action|Ip Man 3 (2015)                                                                        |3.67      |367          |\n",
            "|Action|The Beast Stalker (2008)                                                               |3.63      |12           |\n",
            "|Action|Master of the Flying Guillotine (Du bi quan wang da po xue di zi) (1975)               |3.63      |154          |\n",
            "|Action|Mr. Six (2015)                                                                         |3.63      |15           |\n",
            "|Action|Crows Zero II (Kurôzu Zero II) (2009)                                                  |3.62      |43           |\n",
            "|Action|Border (1997)                                                                          |3.62      |30           |\n",
            "|Action|War of the Arrows (Choi-jong-byeong-gi Hwal) (2011)                                    |3.61      |84           |\n",
            "|Action|The Great Battle (2018)                                                                |3.6       |10           |\n",
            "|Action|Electra (1962)                                                                         |3.54      |12           |\n",
            "|Action|Crows Zero (Kurôzu zero) (2007)                                                        |3.54      |82           |\n",
            "|Action|Once Upon a Time in China III (Wong Fei-hung tsi sam: Siwong tsangba) (1993)           |3.51      |190          |\n",
            "|Action|Reign of Assassins (2010)                                                              |3.5       |24           |\n",
            "|Action|Sword Master (2016)                                                                    |3.5       |12           |\n",
            "|Action|Flash Point (a.k.a. Flashpoint) (Dou fo sin) (2007)                                    |3.48      |81           |\n",
            "|Action|Psy (1992)                                                                             |3.46      |12           |\n",
            "|Action|Jason Bourne (2016)                                                                    |3.46      |1905         |\n",
            "|Action|Ichi (2008)                                                                            |3.4       |30           |\n",
            "|Action|Last Castle, The (2001)                                                                |3.4       |1689         |\n",
            "|Action|Minnie and Moskowitz (1971)                                                            |3.39      |116          |\n",
            "|Action|Thunderbolt and Lightfoot (1974)                                                       |3.39      |680          |\n",
            "|Action|Five Deadly Venoms (1978)                                                              |3.38      |85           |\n",
            "|Action|The Crew (2016)                                                                        |3.37      |60           |\n",
            "|Action|Challenge, The (1982)                                                                  |3.33      |12           |\n",
            "|Action|Beyond Outrage (2012)                                                                  |3.33      |48           |\n",
            "|Action|The Hire: Powder Keg (2001)                                                            |3.33      |24           |\n",
            "|Action|Never Back Down (2008)                                                                 |3.3       |452          |\n",
            "|Action|Rampant (2018)                                                                         |3.27      |11           |\n",
            "|Action|Boyka: Undisputed IV (2016)                                                            |3.26      |38           |\n",
            "|Action|Hunter Killer (2018)                                                                   |3.26      |111          |\n",
            "|Action|Game of Death (1978)                                                                   |3.26      |302          |\n",
            "|Action|The Dead Lands                                                                         |3.25      |18           |\n",
            "|Action|Kiss of the Dragon (2001)                                                              |3.25      |1665         |\n",
            "|Action|Shaolin Temple, The (Shao Lin Si) (1982)                                               |3.24      |19           |\n",
            "|Action|Bastille Day (2016)                                                                    |3.23      |133          |\n",
            "|Action|Antigang (2015)                                                                        |3.23      |13           |\n",
            "|Action|Gauntlet, The (1977)                                                                   |3.22      |441          |\n",
            "|Action|6 Days (2017)                                                                          |3.2       |63           |\n",
            "|Action|Bloodsport (1988)                                                                      |3.19      |1912         |\n",
            "|Action|Triangle (Tie saam gok) (2007)                                                         |3.19      |18           |\n",
            "|Action|Furie (2019)                                                                           |3.19      |13           |\n",
            "|Action|Big Bird Cage, The (1972)                                                              |3.18      |90           |\n",
            "|Action|Polar (2019)                                                                           |3.17      |188          |\n",
            "|Action|Dragon Inn (Sun lung moon hak chan) (1992)                                             |3.15      |17           |\n",
            "|Action|Call of Heroes (2016)                                                                  |3.15      |10           |\n",
            "|Action|The Kick (2011)                                                                        |3.14      |14           |\n",
            "|Action|Gridlocked (2015)                                                                      |3.14      |25           |\n",
            "+------+---------------------------------------------------------------------------------------+----------+-------------+\n",
            "only showing top 50 rows\n",
            "\n"
          ]
        }
      ]
    },
    {
      "cell_type": "markdown",
      "source": [
        "Github link:- https://github.com/shubhanshu-26/Big_data"
      ],
      "metadata": {
        "id": "LPnDy53NkckV"
      }
    },
    {
      "cell_type": "code",
      "source": [
        "#  Save Recommendations to MySQL\n",
        "\n",
        "top_movies_df = spark.sql(\"\"\"\n",
        "SELECT m.genres, m.title, ROUND(AVG(r.rating),2) as avg_rating, COUNT(*) as total_ratings\n",
        "FROM movies_exploded m\n",
        "JOIN ratings r ON m.movieId = r.movieId\n",
        "GROUP BY m.genres, m.title\n",
        "HAVING total_ratings >= 10\n",
        "ORDER BY m.genres, avg_rating DESC\n",
        "\"\"\")\n",
        "\n",
        "top_movies_df.write \\\n",
        "    .format(\"jdbc\") \\\n",
        "    .option(\"url\", \"jdbc:mysql://localhost:3306/moviesdb\") \\\n",
        "    .option(\"driver\", \"com.mysql.cj.jdbc.Driver\") \\\n",
        "    .option(\"dbtable\", \"top_movies_by_genre\") \\\n",
        "    .option(\"user\", \"youruser\") \\\n",
        "    .option(\"password\", \"yourpassword\") \\\n",
        "    .mode(\"overwrite\") \\\n",
        "    .save()"
      ],
      "metadata": {
        "id": "rJ3iy5B9lZpp"
      },
      "execution_count": null,
      "outputs": []
    }
  ]
}